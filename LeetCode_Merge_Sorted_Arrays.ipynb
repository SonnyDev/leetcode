{
  "nbformat": 4,
  "nbformat_minor": 0,
  "metadata": {
    "colab": {
      "provenance": [],
      "authorship_tag": "ABX9TyMsEaN4kwc10e8zR3gqQ2Zj",
      "include_colab_link": true
    },
    "kernelspec": {
      "name": "python3",
      "display_name": "Python 3"
    },
    "language_info": {
      "name": "python"
    }
  },
  "cells": [
    {
      "cell_type": "markdown",
      "metadata": {
        "id": "view-in-github",
        "colab_type": "text"
      },
      "source": [
        "<a href=\"https://colab.research.google.com/github/SonnyDev/leetcode/blob/main/LeetCode_Merge_Sorted_Arrays.ipynb\" target=\"_parent\"><img src=\"https://colab.research.google.com/assets/colab-badge.svg\" alt=\"Open In Colab\"/></a>"
      ]
    },
    {
      "cell_type": "markdown",
      "source": [
        "## Problem"
      ],
      "metadata": {
        "id": "hEJYISx2HEap"
      }
    },
    {
      "cell_type": "markdown",
      "source": [
        "You are given two integer arrays nums1 and nums2, sorted in non-decreasing order, and two integers m and n, representing the number of elements in nums1 and nums2 respectively.\n",
        "\n",
        "Merge nums1 and nums2 into a single array sorted in non-decreasing order.\n",
        "\n",
        "The final sorted array should not be returned by the function, but instead be stored inside the array nums1. To accommodate this, nums1 has a length of m + n, where the first m elements denote the elements that should be merged, and the last n elements are set to 0 and should be ignored. nums2 has a length of n.\n",
        "\n",
        "\n",
        "\n",
        "Example 1:\n",
        "\n",
        "Input: nums1 = [1,2,3,0,0,0], m = 3, nums2 = [2,5,6], n = 3\n",
        "Output: [1,2,2,3,5,6]\n",
        "Explanation: The arrays we are merging are [1,2,3] and [2,5,6].\n",
        "The result of the merge is [1,2,2,3,5,6] with the underlined elements coming from nums1.\n",
        "\n",
        "Example 2:\n",
        "\n",
        "Input: nums1 = [1], m = 1, nums2 = [], n = 0\n",
        "Output: [1]\n",
        "Explanation: The arrays we are merging are [1] and [].\n",
        "The result of the merge is [1].\n",
        "\n",
        "Example 3:\n",
        "\n",
        "Input: nums1 = [0], m = 0, nums2 = [1], n = 1\n",
        "Output: [1]\n",
        "Explanation: The arrays we are merging are [] and [1].\n",
        "The result of the merge is [1].\n",
        "Note that because m = 0, there are no elements in nums1. The 0 is only there to ensure the merge result can fit in nums1.\n",
        "\n",
        "\n",
        "Constraints:\n",
        "\n",
        "nums1.length == m + n\n",
        "nums2.length == n\n",
        "0 <= m, n <= 200\n",
        "1 <= m + n <= 200\n",
        "-109 <= nums1[i], nums2[j] <= 109\n",
        "\n",
        "\n",
        "Follow up: Can you come up with an algorithm that runs in O(m + n) time?"
      ],
      "metadata": {
        "id": "3MD-NQ2KBePZ"
      }
    },
    {
      "cell_type": "markdown",
      "source": [
        "## Solution"
      ],
      "metadata": {
        "id": "prg9KNu_G_bU"
      }
    },
    {
      "cell_type": "markdown",
      "source": [
        "To solve this problem, we can use a two-pointer approach starting from the end of both arrays nums1 and nums2. Since nums1 is supposed to contain the final merged array and it has enough space to accommodate all elements from both arrays (i.e., its length is m + n), we can fill it from the end. This way, we avoid overwriting any elements from nums1 that haven't been considered yet."
      ],
      "metadata": {
        "id": "MHa0ZHhuG3Ey"
      }
    },
    {
      "cell_type": "markdown",
      "source": [
        "1. Initialize two pointers, i and j, at the end of the meaningful parts of nums1 and nums2, respectively. i should start at m - 1 and j at n - 1.\n",
        "Initialize another pointer k at the very end of nums1, which is at m + n - 1.\n",
        "\n",
        "2. Compare elements pointed by i and j. Place the larger one at the position pointed by k and move the respective pointer and k backward.\n",
        "\n",
        "3. If either i or j runs out (i.e., becomes less than 0), stop the comparison process.\n",
        "\n",
        "4. If there are remaining elements in nums2 (i.e., j >= 0), copy them into the remaining positions in nums1."
      ],
      "metadata": {
        "id": "oroMZtb3HTW8"
      }
    },
    {
      "cell_type": "code",
      "source": [
        "def merge(nums1, m, nums2, n):\n",
        "    i, j, k = m - 1, n - 1, m + n - 1\n",
        "\n",
        "    # Merge nums2 into nums1 from the end\n",
        "    while i >= 0 and j >= 0:\n",
        "        if nums1[i] > nums2[j]:\n",
        "            nums1[k] = nums1[i]\n",
        "            i -= 1\n",
        "        else:\n",
        "            nums1[k] = nums2[j]\n",
        "            j -= 1\n",
        "        k -= 1\n",
        "\n",
        "    # Copy any remaining elements from nums2\n",
        "    while j >= 0:\n",
        "        nums1[k] = nums2[j]\n",
        "        j -= 1\n",
        "        k -= 1\n",
        "\n",
        "    return nums1"
      ],
      "metadata": {
        "id": "nUOMQn4IBnZw"
      },
      "execution_count": 16,
      "outputs": []
    },
    {
      "cell_type": "code",
      "source": [
        "# Example usage:\n",
        "example1 = merge(nums1=[1, 2, 3, 0, 0, 0], m=3, nums2=[2, 5, 6], n=3)\n",
        "example2 = merge(nums1=[1], m=1, nums2=[], n=0)\n",
        "example3 = merge(nums1=[0], m=0, nums2=[1], n=1)\n",
        "\n",
        "print(\"Example 1 Output:\", example1)\n",
        "print(\"Example 2 Output:\", example2)\n",
        "print(\"Example 3 Output:\", example3)\n"
      ],
      "metadata": {
        "colab": {
          "base_uri": "https://localhost:8080/"
        },
        "id": "fB4_mD23FjBc",
        "outputId": "5e55397a-8411-4baa-fb19-13a4715c8b33"
      },
      "execution_count": 17,
      "outputs": [
        {
          "output_type": "stream",
          "name": "stdout",
          "text": [
            "Example 1 Output: [1, 2, 2, 3, 5, 6]\n",
            "Example 2 Output: [1]\n",
            "Example 3 Output: [1]\n"
          ]
        }
      ]
    },
    {
      "cell_type": "code",
      "source": [],
      "metadata": {
        "id": "9vDm1_GRIGiG"
      },
      "execution_count": null,
      "outputs": []
    }
  ]
}