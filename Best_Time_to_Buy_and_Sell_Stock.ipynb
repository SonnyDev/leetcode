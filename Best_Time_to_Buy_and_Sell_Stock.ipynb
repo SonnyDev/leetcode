{
  "nbformat": 4,
  "nbformat_minor": 0,
  "metadata": {
    "colab": {
      "provenance": [],
      "authorship_tag": "ABX9TyPunD2wvRtPO1kIXCCc+dIf",
      "include_colab_link": true
    },
    "kernelspec": {
      "name": "python3",
      "display_name": "Python 3"
    },
    "language_info": {
      "name": "python"
    }
  },
  "cells": [
    {
      "cell_type": "markdown",
      "metadata": {
        "id": "view-in-github",
        "colab_type": "text"
      },
      "source": [
        "<a href=\"https://colab.research.google.com/github/SonnyDev/leetcode/blob/main/Best_Time_to_Buy_and_Sell_Stock.ipynb\" target=\"_parent\"><img src=\"https://colab.research.google.com/assets/colab-badge.svg\" alt=\"Open In Colab\"/></a>"
      ]
    },
    {
      "cell_type": "markdown",
      "source": [
        "## Problem\n",
        "You are given an array prices where prices[i] is the price of a given stock on the ith day.\n",
        "\n",
        "You want to maximize your profit by choosing a single day to buy one stock and choosing a different day in the future to sell that stock.\n",
        "\n",
        "Return the maximum profit you can achieve from this transaction. If you cannot achieve any profit, return 0."
      ],
      "metadata": {
        "id": "xfb2uOruYS3o"
      }
    },
    {
      "cell_type": "markdown",
      "source": [
        "```\n",
        "Example 1:\n",
        "\n",
        "Input: prices = [7,1,5,3,6,4]\n",
        "Output: 5\n",
        "Explanation: Buy on day 2 (price = 1) and sell on day 5 (price = 6), profit = 6-1 = 5.\n",
        "Note that buying on day 2 and selling on day 1 is not allowed because you must buy before you sell.\n",
        "Example 2:\n",
        "\n",
        "Input: prices = [7,6,4,3,1]\n",
        "Output: 0\n",
        "Explanation: In this case, no transactions are done and the max profit = 0.\n",
        "\n",
        "\n",
        "Constraints:\n",
        "\n",
        "1 <= prices.length <= 105\n",
        "0 <= prices[i] <= 104\n",
        "```\n",
        "\n"
      ],
      "metadata": {
        "id": "AdKGtII3YcEd"
      }
    },
    {
      "cell_type": "markdown",
      "source": [
        "## Solution"
      ],
      "metadata": {
        "id": "DUXrFrz_Y1XD"
      }
    },
    {
      "cell_type": "markdown",
      "source": [
        "\n",
        "### Strategy:\n",
        "\n",
        "The key to solving this problem is to find the largest price difference, where the lower price comes before the higher price (buy low, sell high).\n",
        "\n",
        "This can be done by iterating through the array of prices while keeping track of the minimum price seen so far and the maximum profit at each step.\n",
        "\n",
        "### Implementation Steps:\n",
        "\n",
        "* Initialize two variables: min_price to a very high value initially and max_profit to 0.\n",
        "* Loop through each price in the array:\n",
        " - Update min_price if the current price is lower than the min_price.\n",
        " - Calculate the potential profit by subtracting min_price from the current price.\n",
        " - Update max_profit if the calculated profit is greater than the current max_profit.\n",
        "* After the loop, max_profit will hold the maximum profit possible.\n"
      ],
      "metadata": {
        "id": "P046oikBZI4v"
      }
    },
    {
      "cell_type": "code",
      "source": [
        "def max_profit(prices):\n",
        "    if not prices:\n",
        "        return 0\n",
        "\n",
        "    max_profit = 0\n",
        "    min_price = prices[0]\n",
        "\n",
        "    for price in prices:\n",
        "        min_price = min(min_price, price)\n",
        "        profit = price - min_price\n",
        "        max_profit = max(max_profit, profit)\n",
        "\n",
        "    return max_profit\n",
        "\n",
        "# Example usage\n",
        "prices_example = [7, 1, 5, 3, 6, 4]\n",
        "max_profit(prices_example)"
      ],
      "metadata": {
        "colab": {
          "base_uri": "https://localhost:8080/"
        },
        "id": "nhmJzDXPYyEH",
        "outputId": "70672b01-3201-4e4d-c8c8-9a7400cdb759"
      },
      "execution_count": 1,
      "outputs": [
        {
          "output_type": "execute_result",
          "data": {
            "text/plain": [
              "5"
            ]
          },
          "metadata": {},
          "execution_count": 1
        }
      ]
    }
  ]
}