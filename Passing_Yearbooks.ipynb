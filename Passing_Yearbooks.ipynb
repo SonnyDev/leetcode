{
  "nbformat": 4,
  "nbformat_minor": 0,
  "metadata": {
    "colab": {
      "provenance": [],
      "authorship_tag": "ABX9TyO8UOWI0RgpxAKx/mPXhzfk",
      "include_colab_link": true
    },
    "kernelspec": {
      "name": "python3",
      "display_name": "Python 3"
    },
    "language_info": {
      "name": "python"
    }
  },
  "cells": [
    {
      "cell_type": "markdown",
      "metadata": {
        "id": "view-in-github",
        "colab_type": "text"
      },
      "source": [
        "<a href=\"https://colab.research.google.com/github/SonnyDev/leetcode/blob/main/Passing_Yearbooks.ipynb\" target=\"_parent\"><img src=\"https://colab.research.google.com/assets/colab-badge.svg\" alt=\"Open In Colab\"/></a>"
      ]
    },
    {
      "cell_type": "markdown",
      "source": [
        "## Problem\n",
        "There are n students, numbered from 1 to n, each with their own yearbook. They would like to pass their yearbooks around and get them signed by other students.\n",
        "\n",
        "You're given a list of n integers arr[1..n], which is guaranteed to be a permutation of 1..n (in other words, it includes the integers from 1 to n exactly once each, in some order). The meaning of this list is described below.\n",
        "\n",
        "Initially, each student is holding their own yearbook. The students will then repeat the following two steps each minute: Each student i will first sign the yearbook that they're currently holding (which may either belong to themselves or to another student), and then they'll pass it to student arr[i-1]. It's possible that arr[i-1] = i for any given i, in which case student i will pass their yearbook back to themselves. Once a student has received their own yearbook back, they will hold on to it and no longer participate in the passing process.\n",
        "\n",
        "It's guaranteed that, for any possible valid input, each student will eventually receive their own yearbook back and will never end up holding more than one yearbook at a time.\n",
        "You must compute a list of n integers output, whose element at i-1 is equal to the number of signatures that will be present in student i's yearbook once they receive it back.\n",
        "```\n",
        "Signature\n",
        "int[] findSignatureCounts(int[] arr)\n",
        "Input\n",
        "n is in the range [1, 100,000].\n",
        "Each value arr[i] is in the range [1, n], and all values in arr[i] are distinct.\n",
        "Output\n",
        "Return a list of n integers output, as described above.\n",
        "Example 1\n",
        "n = 2\n",
        "arr = [2, 1]\n",
        "output = [2, 2]\n",
        "Pass 1:\n",
        "Student 1 signs their own yearbook. Then they pass the book to the student at arr[0], which is Student 2.\n",
        "Student 2 signs their own yearbook. Then they pass the book to the student at arr[1], which is Student 1.\n",
        "Pass 2:\n",
        "Student 1 signs Student 2's yearbook. Then they pass it to the student at arr[0], which is Student 2.\n",
        "Student 2 signs Student 1's yearbook. Then they pass it to the student at arr[1], which is Student 1.\n",
        "Pass 3:\n",
        "Both students now hold their own yearbook, so the process is complete.\n",
        "Each student received 2 signatures.\n",
        "Example 2\n",
        "n = 2\n",
        "arr = [1, 2]\n",
        "output = [1, 1]\n",
        "Pass 1:\n",
        "Student 1 signs their own yearbook. Then they pass the book to the student at arr[0], which is themself, Student 1.\n",
        "Student 2 signs their own yearbook. Then they pass the book to the student at arr[1], which is themself, Student 2.\n",
        "Pass 2:\n",
        "Both students now hold their own yearbook, so the process is complete.\n",
        "Each student received 1 signature.\n",
        "```"
      ],
      "metadata": {
        "id": "qY4yiiTMfU4z"
      }
    },
    {
      "cell_type": "markdown",
      "source": [
        "## Solution\n",
        "\n",
        "This problem describes a scenario in which n students are passing yearbooks around in a certain sequence, and you need to determine how many times each student ends up with a yearbook (not necessarily their own) at the end of the process.\n",
        "\n",
        "Here's a step-by-step approach to solving this problem in Python:\n",
        "\n",
        "- Initialize an array of n integers, each set to 1, to represent the minimum number of times each student will hold a yearbook (they start with one).\n",
        "\n",
        "- For each student i, follow the passing sequence described by the given permutation array. Keep track of which students have received their own yearbook back.\n",
        "\n",
        "- When a student receives their own yearbook back, they stop participating in the passing process.\n",
        "\n",
        "- For each student, count the number of times they receive a yearbook (including their own) until they receive their own yearbook back.\n",
        "\n",
        "- Once all students have received their own yearbooks back, the process stops, and the array will represent the number of times each student has held a yearbook."
      ],
      "metadata": {
        "id": "iCzbIcPpfrU7"
      }
    },
    {
      "cell_type": "code",
      "source": [
        "def count_yearbook_passes(n, passes):\n",
        "    # Initialize the result array with 1s because each student will at least hold their yearbook once\n",
        "    result = [1] * n\n",
        "    # Iterate through each student\n",
        "    for i in range(n):\n",
        "        # If the student passes the yearbook to themselves, continue to the next student\n",
        "        if passes[i] == i + 1:\n",
        "            continue\n",
        "        # Start with the student to whom the current student passes the yearbook\n",
        "        next_student = passes[i] - 1\n",
        "        # While the next student is not the current student, keep passing the yearbook\n",
        "        while next_student != i:\n",
        "            # Increment the result for the current student\n",
        "            result[i] += 1\n",
        "            # Pass the yearbook to the next student in the sequence\n",
        "            next_student = passes[next_student] - 1\n",
        "    # Return the final counts of how many times each student held a yearbook\n",
        "    return result\n",
        "\n",
        "# Example usage:\n",
        "# Assuming n is the number of students and passes is the list representing the passing sequence\n",
        "n = 4\n",
        "passes = [2, 3, 4, 1]  # This means student 1 passes to student 2, student 2 to student 3, etc.\n",
        "count_yearbook_passes(n, passes)"
      ],
      "metadata": {
        "colab": {
          "base_uri": "https://localhost:8080/"
        },
        "id": "2KO43E8-fm8c",
        "outputId": "b21848df-02c9-4b33-9574-3ca3b6ca0894"
      },
      "execution_count": 1,
      "outputs": [
        {
          "output_type": "execute_result",
          "data": {
            "text/plain": [
              "[4, 4, 4, 4]"
            ]
          },
          "metadata": {},
          "execution_count": 1
        }
      ]
    },
    {
      "cell_type": "code",
      "source": [
        "n = 2\n",
        "passes = [2, 1]\n",
        "count_yearbook_passes(n, passes)"
      ],
      "metadata": {
        "colab": {
          "base_uri": "https://localhost:8080/"
        },
        "id": "4Psq8lKPgFqP",
        "outputId": "2a621da4-6eaf-46cc-d3b9-4b487a3dded1"
      },
      "execution_count": 2,
      "outputs": [
        {
          "output_type": "execute_result",
          "data": {
            "text/plain": [
              "[2, 2]"
            ]
          },
          "metadata": {},
          "execution_count": 2
        }
      ]
    },
    {
      "cell_type": "code",
      "source": [
        "n = 2\n",
        "passes = [1, 2]\n",
        "count_yearbook_passes(n, passes)"
      ],
      "metadata": {
        "colab": {
          "base_uri": "https://localhost:8080/"
        },
        "id": "NW4-VqfagRVU",
        "outputId": "782b7485-8256-4b85-a7c7-278a0de11046"
      },
      "execution_count": 3,
      "outputs": [
        {
          "output_type": "execute_result",
          "data": {
            "text/plain": [
              "[1, 1]"
            ]
          },
          "metadata": {},
          "execution_count": 3
        }
      ]
    }
  ]
}