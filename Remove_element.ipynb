{
  "nbformat": 4,
  "nbformat_minor": 0,
  "metadata": {
    "colab": {
      "provenance": [],
      "authorship_tag": "ABX9TyMMkascOh6R2anoaY6C8RUx",
      "include_colab_link": true
    },
    "kernelspec": {
      "name": "python3",
      "display_name": "Python 3"
    },
    "language_info": {
      "name": "python"
    }
  },
  "cells": [
    {
      "cell_type": "markdown",
      "metadata": {
        "id": "view-in-github",
        "colab_type": "text"
      },
      "source": [
        "<a href=\"https://colab.research.google.com/github/SonnyDev/leetcode/blob/main/Remove_element.ipynb\" target=\"_parent\"><img src=\"https://colab.research.google.com/assets/colab-badge.svg\" alt=\"Open In Colab\"/></a>"
      ]
    },
    {
      "cell_type": "markdown",
      "source": [
        "## Problem"
      ],
      "metadata": {
        "id": "DPi4IaitLzeJ"
      }
    },
    {
      "cell_type": "markdown",
      "source": [
        "Given an integer array nums and an integer val, remove all occurrences of val in nums in-place. The order of the elements may be changed. Then return the number of elements in nums which are not equal to val.\n",
        "\n",
        "Consider the number of elements in nums which are not equal to val be k, to get accepted, you need to do the following things:\n",
        "\n",
        "Change the array nums such that the first k elements of nums contain the elements which are not equal to val. The remaining elements of nums are not important as well as the size of nums.\n",
        "Return k."
      ],
      "metadata": {
        "id": "di4e6h4aL2ZS"
      }
    },
    {
      "cell_type": "markdown",
      "source": [
        "## Solution\n",
        "We'll use two pointers: one to iterate through the array (i) and another one (k) to keep track of the position where we can place an element that is not equal to val.\n",
        "\n",
        "As we iterate through the array, whenever we find an element that is not equal to val, we'll move it to the position indicated by k and increment k.\n",
        "\n",
        "Finally, k will be the count of elements that are not equal to val, and the first k elements of nums will be the required elements.\n",
        "\n",
        "This algorithm has a time complexity of O(n), where n is the number of elements in the array, and a space complexity of O(1) as it is done in-place."
      ],
      "metadata": {
        "id": "3tpgWZnNMX9C"
      }
    },
    {
      "cell_type": "code",
      "source": [
        "def remove_element(nums, val):\n",
        "    \"\"\"\n",
        "    Remove all occurrences of 'val' from the array 'nums' in-place.\n",
        "\n",
        "    This function modifies the array such that all elements not equal to 'val'\n",
        "    are moved to the front of the array. The order of these elements is maintained.\n",
        "    The function returns the count of elements in 'nums' that are not equal to 'val'.\n",
        "\n",
        "    Parameters:\n",
        "    nums (list[int]): The input array.\n",
        "    val (int): The value to be removed from the array.\n",
        "\n",
        "    Returns:\n",
        "    int: The number of elements in 'nums' not equal to 'val'.\n",
        "    \"\"\"\n",
        "    k = 0\n",
        "    for i in range(len(nums)):\n",
        "        if nums[i] != val:\n",
        "            nums[k] = nums[i]\n",
        "            k += 1\n",
        "    return k"
      ],
      "metadata": {
        "id": "lZlwbMxjL76F"
      },
      "execution_count": 1,
      "outputs": []
    },
    {
      "cell_type": "code",
      "source": [
        "# Example usage\n",
        "nums = [3, 2, 2, 3]\n",
        "val = 3\n",
        "k = remove_element(nums, val)\n",
        "print(\"Number of elements not equal to val:\", k)\n",
        "print(\"Modified array:\", nums[:k])"
      ],
      "metadata": {
        "colab": {
          "base_uri": "https://localhost:8080/"
        },
        "id": "etPpU1A8NLaj",
        "outputId": "5c76254c-653b-461d-a19c-094b98ed7686"
      },
      "execution_count": 2,
      "outputs": [
        {
          "output_type": "stream",
          "name": "stdout",
          "text": [
            "Number of elements not equal to val: 2\n",
            "Modified array: [2, 2]\n"
          ]
        }
      ]
    },
    {
      "cell_type": "code",
      "source": [
        "# Example usage\n",
        "nums = [0,1,2,2,3,0,4,2]\n",
        "val = 2\n",
        "k = remove_element(nums, val)\n",
        "print(\"Number of elements not equal to val:\", k)\n",
        "print(\"Modified array:\", nums[:k])"
      ],
      "metadata": {
        "colab": {
          "base_uri": "https://localhost:8080/"
        },
        "id": "u9GOog4PNRwf",
        "outputId": "27fd732c-723c-42c0-a939-bd17938c408a"
      },
      "execution_count": 5,
      "outputs": [
        {
          "output_type": "stream",
          "name": "stdout",
          "text": [
            "Number of elements not equal to val: 5\n",
            "Modified array: [0, 1, 3, 0, 4]\n"
          ]
        }
      ]
    },
    {
      "cell_type": "code",
      "source": [],
      "metadata": {
        "id": "mOTUkG8tNgCF"
      },
      "execution_count": null,
      "outputs": []
    }
  ]
}