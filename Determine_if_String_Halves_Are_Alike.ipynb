{
  "nbformat": 4,
  "nbformat_minor": 0,
  "metadata": {
    "colab": {
      "provenance": [],
      "authorship_tag": "ABX9TyPW/xMoiKwDyD3riFdLT2CY",
      "include_colab_link": true
    },
    "kernelspec": {
      "name": "python3",
      "display_name": "Python 3"
    },
    "language_info": {
      "name": "python"
    }
  },
  "cells": [
    {
      "cell_type": "markdown",
      "metadata": {
        "id": "view-in-github",
        "colab_type": "text"
      },
      "source": [
        "<a href=\"https://colab.research.google.com/github/SonnyDev/leetcode/blob/main/Determine_if_String_Halves_Are_Alike.ipynb\" target=\"_parent\"><img src=\"https://colab.research.google.com/assets/colab-badge.svg\" alt=\"Open In Colab\"/></a>"
      ]
    },
    {
      "cell_type": "markdown",
      "source": [
        "\n",
        "## Problem\n",
        "You are given a string s of even length. Split this string into two halves of equal lengths, and let a be the first half and b be the second half.\n",
        "\n",
        "Two strings are alike if they have the same number of vowels ('a', 'e', 'i', 'o', 'u', 'A', 'E', 'I', 'O', 'U'). Notice that s contains uppercase and lowercase letters.\n",
        "\n",
        "Return true if a and b are alike. Otherwise, return false."
      ],
      "metadata": {
        "id": "IKbb-nTG1j3R"
      }
    },
    {
      "cell_type": "markdown",
      "source": [
        "```\n",
        "Example 1:\n",
        "\n",
        "Input: s = \"book\"\n",
        "Output: true\n",
        "Explanation: a = \"bo\" and b = \"ok\". a has 1 vowel and b has 1 vowel. Therefore, they are alike.\n",
        "Example 2:\n",
        "\n",
        "Input: s = \"textbook\"\n",
        "Output: false\n",
        "Explanation: a = \"text\" and b = \"book\". a has 1 vowel whereas b has 2. Therefore, they are not alike.\n",
        "Notice that the vowel o is counted twice.\n",
        "\n",
        "\n",
        "Constraints:\n",
        "\n",
        "2 <= s.length <= 1000\n",
        "s.length is even.\n",
        "s consists of uppercase and lowercase letters.\n",
        "\n",
        "```"
      ],
      "metadata": {
        "id": "qjS-Idbk1tw-"
      }
    },
    {
      "cell_type": "markdown",
      "source": [
        "## Solution\n",
        "To solve this problem, we can follow this steps :\n",
        "\n",
        "- Define the Vowels: First, define a tuple or list of vowels (both uppercase and lowercase) for easy checking later. In your code, this is done with vowels = (\"a\", \"e\", \"i\", \"o\", \"u\", \"A\", \"E\", \"I\", \"O\", \"U\").\n",
        "\n",
        "- Initialize Counters: Initialize two counters, count_1 and count_2, to count the number of vowels in each half of the string.\n",
        "\n",
        "- Find the Middle of the String: Calculate the middle index of the string. Since the string length is even, the middle can be found by dividing the length of the string by 2. This is done with n = len(s) // 2.\n",
        "\n",
        "- Iterate Over Each Half: Use a loop to iterate over each character of both halves of the string simultaneously. The first half is from index 0 to n-1, and the second half is from index n to the end of the string.\n",
        "\n",
        "- Count Vowels: Inside the loop, check if the character at the current index in both halves of the string is a vowel. If it is, increment the corresponding counter (count_1 for the first half, count_2 for the second half).\n",
        "\n",
        "- Check for Equality of Counts: After the loop, check if the two counters are equal. If count_1 == count_2, it means both halves of the string have an equal number of vowels, so return True. Otherwise, return False.\n"
      ],
      "metadata": {
        "id": "QArxo4Gi159f"
      }
    },
    {
      "cell_type": "code",
      "source": [
        "def halvesAreAlike(s: str) -> bool:\n",
        "  vowels = (\"a\", \"e\", \"i\", \"o\", \"u\", \"A\", \"E\", \"I\", \"O\", \"U\")\n",
        "  count_1 = count_2 = 0\n",
        "  n = len(s) // 2\n",
        "  k = n\n",
        "  for i in range(n):\n",
        "      if s[i] in vowels:\n",
        "          count_1 += 1\n",
        "      if s[k] in vowels:\n",
        "          count_2 += 1\n",
        "      k += 1\n",
        "  if count_1 == count_2:\n",
        "      return True\n",
        "  return False"
      ],
      "metadata": {
        "id": "q2fde1q-15eJ"
      },
      "execution_count": 1,
      "outputs": []
    },
    {
      "cell_type": "code",
      "source": [
        "halvesAreAlike(\"book\")"
      ],
      "metadata": {
        "colab": {
          "base_uri": "https://localhost:8080/"
        },
        "id": "R0GwvIpQ1sa_",
        "outputId": "0d6d8526-3a36-4ed8-831f-fcce1ae02474"
      },
      "execution_count": 2,
      "outputs": [
        {
          "output_type": "execute_result",
          "data": {
            "text/plain": [
              "True"
            ]
          },
          "metadata": {},
          "execution_count": 2
        }
      ]
    },
    {
      "cell_type": "code",
      "source": [
        "halvesAreAlike(\"textbook\")"
      ],
      "metadata": {
        "colab": {
          "base_uri": "https://localhost:8080/"
        },
        "id": "Q64gt5el3kqH",
        "outputId": "934e9e97-f0e9-486f-99a5-c024f316f564"
      },
      "execution_count": 3,
      "outputs": [
        {
          "output_type": "execute_result",
          "data": {
            "text/plain": [
              "False"
            ]
          },
          "metadata": {},
          "execution_count": 3
        }
      ]
    }
  ]
}