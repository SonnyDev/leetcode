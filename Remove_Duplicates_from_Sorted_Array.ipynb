{
  "nbformat": 4,
  "nbformat_minor": 0,
  "metadata": {
    "colab": {
      "provenance": [],
      "authorship_tag": "ABX9TyNgGoKfqKlZTf1vimoTqi3W",
      "include_colab_link": true
    },
    "kernelspec": {
      "name": "python3",
      "display_name": "Python 3"
    },
    "language_info": {
      "name": "python"
    }
  },
  "cells": [
    {
      "cell_type": "markdown",
      "metadata": {
        "id": "view-in-github",
        "colab_type": "text"
      },
      "source": [
        "<a href=\"https://colab.research.google.com/github/SonnyDev/leetcode/blob/main/Remove_Duplicates_from_Sorted_Array.ipynb\" target=\"_parent\"><img src=\"https://colab.research.google.com/assets/colab-badge.svg\" alt=\"Open In Colab\"/></a>"
      ]
    },
    {
      "cell_type": "markdown",
      "source": [
        "## Problem\n",
        "Given an integer array nums sorted in non-decreasing order, remove the duplicates in-place such that each unique element appears only once. The relative order of the elements should be kept the same. Then return the number of unique elements in nums.\n",
        "\n",
        "Consider the number of unique elements of nums to be k, to get accepted, you need to do the following things:\n",
        "\n",
        "Change the array nums such that the first k elements of nums contain the unique elements in the order they were present in nums initially. The remaining elements of nums are not important as well as the size of nums.\n",
        "Return k."
      ],
      "metadata": {
        "id": "ZZi9m_o9KW6U"
      }
    },
    {
      "cell_type": "markdown",
      "source": [
        "Example 1:\n",
        "\n",
        "Input: nums = [1,1,2]\n",
        "\n",
        "Output: 2, nums = [1,2,_]\n",
        "\n",
        "Explanation: Your function should return k = 2, with the first two elements of nums being 1 and 2 respectively.\n",
        "It does not matter what you leave beyond the returned k (hence they are underscores).\n",
        "Example 2:\n",
        "\n",
        "Input: nums = [0,0,1,1,1,2,2,3,3,4]\n",
        "\n",
        "Output: 5, nums = [0,1,2,3,4,_,_,_,_,_]\n",
        "\n",
        "Explanation: Your function should return k = 5, with the first five elements of nums being 0, 1, 2, 3, and 4 respectively.\n",
        "It does not matter what you leave beyond the returned k (hence they are underscores).\n",
        "\n",
        "\n",
        "Constraints:\n",
        "\n",
        "1 <= nums.length <= 3 * 104\n",
        "\n",
        "-100 <= nums[i] <= 100\n",
        "\n",
        "nums is sorted in non-decreasing order."
      ],
      "metadata": {
        "id": "zJEqE3EqKrkn"
      }
    },
    {
      "cell_type": "markdown",
      "source": [
        "## Solution\n",
        "\n",
        "This problem can be solved using a two-pointer approach. The idea is to iterate over the array with two pointers: one (let's call it `i`) for traversing the array, and another (let's call it `k`) for tracking the position where the next unique element should be placed.\n",
        "\n",
        "Algorithm:\n",
        "\n",
        "1. If the array is empty or has only one element, return its length (since an empty array has 0 unique elements and an array with one element has 1 unique element).\n",
        "\n",
        "2. Initialize `k` to 1. This is because the first element is always unique, so we start checking from the second element.\n",
        "\n",
        "3. Iterate over the array starting from the second element (index 1). For each element at index `i`:\n",
        "\n",
        "    - Compare the current element (`nums[i]`) with the element just before the current position of `k` (i.e., `nums[k-1]`).\n",
        "    - If `nums[i]` is different from `nums[k-1]`, it means `nums[i]` is a unique element that we haven't seen before. So, we place `nums[i]` at `nums[k]` and increment `k`.\n",
        "    - If `nums[i]` is the same as `nums[k-1]`, we just move on to the next element (`i++`), as it's a duplicate.\n",
        "\n",
        "4. After the loop ends, the first `k` elements of `nums` contain the unique elements in the original order, and `k` is the number of unique elements.\n",
        "\n",
        "5. Return `k`.\n"
      ],
      "metadata": {
        "id": "9agDb4zPLND-"
      }
    },
    {
      "cell_type": "code",
      "source": [
        "def remove_duplicates(nums):\n",
        "    if not nums:\n",
        "        return 0\n",
        "\n",
        "    k = 1  # Start from the second element\n",
        "\n",
        "    for i in range(1, len(nums)):\n",
        "        if nums[i] != nums[k - 1]:\n",
        "            nums[k] = nums[i]\n",
        "            k += 1\n",
        "\n",
        "    return k\n",
        "\n",
        "# Example usage\n",
        "example_nums = [0,0,1,1,1,2,2,3,3,4]\n",
        "k = remove_duplicates(example_nums)\n",
        "print(k, example_nums[:k])  # Outputs the number of unique elements and the modified array up to k\n"
      ],
      "metadata": {
        "colab": {
          "base_uri": "https://localhost:8080/"
        },
        "id": "ieh2CB7bLLth",
        "outputId": "2d990cb7-c90d-47a9-8c37-100a9eb0348f"
      },
      "execution_count": 2,
      "outputs": [
        {
          "output_type": "stream",
          "name": "stdout",
          "text": [
            "5 [0, 1, 2, 3, 4]\n"
          ]
        }
      ]
    },
    {
      "cell_type": "code",
      "source": [],
      "metadata": {
        "id": "Y2vQVwNPLw9R"
      },
      "execution_count": null,
      "outputs": []
    }
  ]
}