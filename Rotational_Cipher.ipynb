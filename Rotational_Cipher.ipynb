{
  "nbformat": 4,
  "nbformat_minor": 0,
  "metadata": {
    "colab": {
      "provenance": [],
      "authorship_tag": "ABX9TyOvk0AmQKBpJt/fx4MDRcnl",
      "include_colab_link": true
    },
    "kernelspec": {
      "name": "python3",
      "display_name": "Python 3"
    },
    "language_info": {
      "name": "python"
    }
  },
  "cells": [
    {
      "cell_type": "markdown",
      "metadata": {
        "id": "view-in-github",
        "colab_type": "text"
      },
      "source": [
        "<a href=\"https://colab.research.google.com/github/SonnyDev/leetcode/blob/main/Rotational_Cipher.ipynb\" target=\"_parent\"><img src=\"https://colab.research.google.com/assets/colab-badge.svg\" alt=\"Open In Colab\"/></a>"
      ]
    },
    {
      "cell_type": "markdown",
      "source": [
        "## Problem\n",
        "One simple way to encrypt a string is to \"rotate\" every alphanumeric character by a certain amount. Rotating a character means replacing it with another character that is a certain number of steps away in normal alphabetic or numerical order.\n",
        "\n",
        "For example, if the string \"Zebra-493?\" is rotated 3 places, the resulting string is \"Cheud-726?\". Every alphabetic character is replaced with the character 3 letters higher (wrapping around from Z to A), and every numeric character replaced with the character 3 digits higher (wrapping around from 9 to 0). Note that the non-alphanumeric characters remain unchanged.\n",
        "\n",
        "Given a string and a rotation factor, return an encrypted string.\n",
        "```\n",
        "Signature\n",
        "string rotationalCipher(string input, int rotationFactor)\n",
        "Input\n",
        "1 <= |input| <= 1,000,000\n",
        "0 <= rotationFactor <= 1,000,000\n",
        "Output\n",
        "Return the result of rotating input a number of times equal to rotationFactor.\n",
        "Example 1\n",
        "input = Zebra-493?\n",
        "rotationFactor = 3\n",
        "output = Cheud-726?\n",
        "Example 2\n",
        "input = abcdefghijklmNOPQRSTUVWXYZ0123456789\n",
        "rotationFactor = 39\n",
        "output = nopqrstuvwxyzABCDEFGHIJKLM9012345678\n",
        "```\n"
      ],
      "metadata": {
        "id": "rmgm_JDk43h2"
      }
    },
    {
      "cell_type": "markdown",
      "source": [
        "## Solution\n",
        "\n",
        "#### Step 1: Setting Up\n",
        "\n",
        "- Empty String for Result: encrypted_str will hold our final answer.\n",
        "- Alphabets Mapping: We create a dictionary called alphabet where each letter is mapped to a number (a -> 1, b -> 2, ..., z -> 26). This helps us in finding out how far a letter is in the alphabet.\n",
        "- Reverse Mapping: inversed_alphabet is just the opposite. It maps numbers back to letters. This is useful to figure out what letter comes after we apply the rotation.\n",
        "\n",
        "#### Step 2: Analyzing Each Character\n",
        "\n",
        "We go through each character c in input_str one by one.\n",
        "- Determining Character Type:\n",
        "We need to figure out whether c is a lowercase letter, an uppercase letter, or a number.\n",
        "- minus checks if it’s a lowercase letter, and majus checks if it’s an uppercase letter (after converting c to lowercase).\n",
        "\n",
        "#### Step 3: Rotating Alphabetic Characters\n",
        "\n",
        "- For Lowercase Letters:\n",
        "\n",
        "If c is a lowercase letter, we find its numerical position in the alphabet using inversed_alphabet.\n",
        "Add the rotation factor.\n",
        "If the result exceeds 26, we use modulo (%) to wrap around. This is like a clock where after 12 comes 1 again. Similarly, after 'z' comes 'a'.\n",
        "Convert the number back to a letter using alphabet and add it to encrypted_str.\n",
        "\n",
        "- For Uppercase Letters:\n",
        "\n",
        "It's similar to lowercase, but after finding the rotated character, we convert it back to uppercase before adding it to our result.\n",
        "\n",
        "#### Step 4: Rotating Numeric Characters\n",
        "\n",
        "If c is a number, we add the rotation factor directly.\n",
        "Use modulo 10 to wrap around, so after 9 comes 0.\n",
        "Add the rotated number to encrypted_str.\n",
        "\n",
        "#### Step 5: Handling Non-Alphanumeric Characters\n",
        "\n",
        "If the character is neither a letter nor a number (like symbols or spaces), we don’t change it. Just add it directly to encrypted_str.\n",
        "\n",
        "#### Step 6: Returning the Result\n",
        "\n",
        "After going through all characters, encrypted_str contains our encrypted message."
      ],
      "metadata": {
        "id": "XTtf8_SY6rdA"
      }
    },
    {
      "cell_type": "code",
      "source": [
        "def rotationalCipher(input_str, rotation_factor):\n",
        "  encrypted_str = \"\"\n",
        "  alphabet = dict(enumerate(\"abcdefghijklmnopqrstuvwxyz\", 1))\n",
        "  inversed_alphabet = {v:k for k,v in alphabet.items()}\n",
        "\n",
        "\n",
        "  for c in input_str:\n",
        "    minus, majus = c in inversed_alphabet.keys(), c.lower() in inversed_alphabet.keys()\n",
        "    if minus or majus:\n",
        "      if minus:\n",
        "        val = inversed_alphabet[c] + rotation_factor\n",
        "        if val > 26 and val%26 != 0:\n",
        "          val = val % 26\n",
        "        if val%26 == 0:\n",
        "          val = 26\n",
        "        encrypted_str += alphabet[val]\n",
        "      else:\n",
        "        val = inversed_alphabet[c.lower()] + rotation_factor\n",
        "        if val > 26 and val%26 != 0:\n",
        "          val = val % 26\n",
        "        if val%26 == 0:\n",
        "          val = 26\n",
        "        encrypted_str += alphabet[val].upper()\n",
        "\n",
        "    elif c.isnumeric():\n",
        "      val = int(c) + rotation_factor\n",
        "      if val > 9:\n",
        "        val = val % 10\n",
        "      encrypted_str += str(val)\n",
        "    else:\n",
        "      encrypted_str += c\n",
        "\n",
        "  return encrypted_str"
      ],
      "metadata": {
        "id": "IXHdAIF47ZHS"
      },
      "execution_count": 5,
      "outputs": []
    },
    {
      "cell_type": "code",
      "source": [
        "#Example 1\n",
        "input = \"Zebra-493?\"\n",
        "rotationFactor = 3\n",
        "rotationalCipher(input, rotationFactor)"
      ],
      "metadata": {
        "colab": {
          "base_uri": "https://localhost:8080/",
          "height": 35
        },
        "id": "jYOKA-7m7sVL",
        "outputId": "b7185bb2-cf94-439f-d36a-8a67d0ef8f44"
      },
      "execution_count": 3,
      "outputs": [
        {
          "output_type": "execute_result",
          "data": {
            "text/plain": [
              "'Cheud-726?'"
            ],
            "application/vnd.google.colaboratory.intrinsic+json": {
              "type": "string"
            }
          },
          "metadata": {},
          "execution_count": 3
        }
      ]
    },
    {
      "cell_type": "code",
      "source": [
        "# Example 2\n",
        "input = \"abcdefghijklmNOPQRSTUVWXYZ0123456789\"\n",
        "rotationFactor = 39\n",
        "rotationalCipher(input, rotationFactor)"
      ],
      "metadata": {
        "colab": {
          "base_uri": "https://localhost:8080/",
          "height": 35
        },
        "id": "dNIKx_0O8EiW",
        "outputId": "4812f4d6-fe17-47aa-afc2-2a967cae6326"
      },
      "execution_count": 6,
      "outputs": [
        {
          "output_type": "execute_result",
          "data": {
            "text/plain": [
              "'nopqrstuvwxyzABCDEFGHIJKLM9012345678'"
            ],
            "application/vnd.google.colaboratory.intrinsic+json": {
              "type": "string"
            }
          },
          "metadata": {},
          "execution_count": 6
        }
      ]
    }
  ]
}