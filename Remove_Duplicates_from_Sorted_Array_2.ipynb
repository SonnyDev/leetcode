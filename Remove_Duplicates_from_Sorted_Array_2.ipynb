{
  "nbformat": 4,
  "nbformat_minor": 0,
  "metadata": {
    "colab": {
      "provenance": [],
      "authorship_tag": "ABX9TyPQO1cTi8Wc97NjI/mHQSYs",
      "include_colab_link": true
    },
    "kernelspec": {
      "name": "python3",
      "display_name": "Python 3"
    },
    "language_info": {
      "name": "python"
    }
  },
  "cells": [
    {
      "cell_type": "markdown",
      "metadata": {
        "id": "view-in-github",
        "colab_type": "text"
      },
      "source": [
        "<a href=\"https://colab.research.google.com/github/SonnyDev/leetcode/blob/main/Remove_Duplicates_from_Sorted_Array_2.ipynb\" target=\"_parent\"><img src=\"https://colab.research.google.com/assets/colab-badge.svg\" alt=\"Open In Colab\"/></a>"
      ]
    },
    {
      "cell_type": "markdown",
      "source": [
        "## Problem\n",
        "Given an integer array nums sorted in non-decreasing order, remove some duplicates in-place such that each unique element appears at most twice. The relative order of the elements should be kept the same.\n",
        "\n",
        "Since it is impossible to change the length of the array in some languages, you must instead have the result be placed in the first part of the array nums. More formally, if there are k elements after removing the duplicates, then the first k elements of nums should hold the final result. It does not matter what you leave beyond the first k elements.\n",
        "\n",
        "Return k after placing the final result in the first k slots of nums.\n",
        "\n",
        "Do not allocate extra space for another array. You must do this by modifying the input array in-place with O(1) extra memory."
      ],
      "metadata": {
        "id": "9OAeywkSdj7K"
      }
    },
    {
      "cell_type": "markdown",
      "source": [
        "Example 1:\n",
        "\n",
        "Input: nums = [1,1,1,2,2,3]\n",
        "Output: 5, nums = [1,1,2,2,3,_]\n",
        "\n",
        "Explanation: Your function should return k = 5, with the first five elements of nums being 1, 1, 2, 2 and 3 respectively.\n",
        "It does not matter what you leave beyond the returned k (hence they are underscores).\n",
        "\n",
        "Example 2:\n",
        "\n",
        "Input: nums = [0,0,1,1,1,1,2,3,3]\n",
        "Output: 7, nums = [0,0,1,1,2,3,3,_,_]\n",
        "\n",
        "Explanation: Your function should return k = 7, with the first seven elements of nums being 0, 0, 1, 1, 2, 3 and 3 respectively.\n",
        "It does not matter what you leave beyond the returned k (hence they are underscores).\n",
        "\n",
        "\n",
        "Constraints:\n",
        "\n",
        "1 <= nums.length <= 3 * 104\n",
        "\n",
        "-104 <= nums[i] <= 104\n",
        "\n",
        "nums is sorted in non-decreasing order."
      ],
      "metadata": {
        "id": "a0cl55t2dtzj"
      }
    },
    {
      "cell_type": "markdown",
      "source": [
        "## Solution\n",
        "To solve this problem, we can use a two-pointer approach. The idea is to maintain two pointers: one for iterating through the array (i) and another (k) for keeping track of the position where the next unique element (or the second occurrence of an element) should be placed.\n",
        "\n",
        "The algorithm can be implemented as follows:\n",
        "\n",
        "1. Initialize k = 0 to keep track of the position in the array where the next unique element should be placed.\n",
        "2. Iterate through the array using a pointer i.\n",
        "3. For each element in the array, check if it should be kept based on the following criteria:\n",
        "- If k < 2, it means we are at the beginning of the array, so we keep the element (because we are allowed to have at least two instances of each element).\n",
        "- If nums[i] != nums[k - 2], it means the current element is not a third duplicate, so we should keep it.\n",
        "4. If an element is to be kept, copy it to nums[k] and increment k.\n",
        "5. Continue the process until the end of the array is reached.\n",
        "6. The value of k after the loop ends will be the number of elements in the modified array."
      ],
      "metadata": {
        "id": "kzb1LPVXd_7K"
      }
    },
    {
      "cell_type": "code",
      "source": [
        "def removeDuplicates(nums):\n",
        "    k = 0\n",
        "    for i in range(len(nums)):\n",
        "        if k < 2 or nums[i] != nums[k - 2]:\n",
        "            nums[k] = nums[i]\n",
        "            k += 1\n",
        "    return k\n",
        "\n",
        "# Test the function with an example\n",
        "example_nums = [1, 1, 1, 2, 2, 3]\n",
        "k = removeDuplicates(example_nums)\n",
        "k, example_nums[:k]  # Returning the length of the modified array and the modified array itself"
      ],
      "metadata": {
        "colab": {
          "base_uri": "https://localhost:8080/"
        },
        "id": "qb6KBLDjd1lv",
        "outputId": "2006de13-d91a-4221-8b54-359444dab3f6"
      },
      "execution_count": 3,
      "outputs": [
        {
          "output_type": "execute_result",
          "data": {
            "text/plain": [
              "(5, [1, 1, 2, 2, 3])"
            ]
          },
          "metadata": {},
          "execution_count": 3
        }
      ]
    },
    {
      "cell_type": "code",
      "source": [],
      "metadata": {
        "id": "lutMep4XehYp"
      },
      "execution_count": null,
      "outputs": []
    }
  ]
}